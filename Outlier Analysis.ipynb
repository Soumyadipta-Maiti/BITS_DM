{
 "cells": [
  {
   "cell_type": "code",
   "execution_count": 1,
   "id": "a7070501",
   "metadata": {},
   "outputs": [],
   "source": [
    "import numpy as np\n",
    "import pandas as pd\n",
    "import scipy.spatial.distance as dist\n",
    "from sympy import *"
   ]
  },
  {
   "cell_type": "code",
   "execution_count": 113,
   "id": "7c741392",
   "metadata": {},
   "outputs": [
    {
     "data": {
      "application/javascript": [
       "IPython.OutputArea.prototype._should_scroll = function(lines) {\n",
       "    return false;\n",
       "}\n"
      ],
      "text/plain": [
       "<IPython.core.display.Javascript object>"
      ]
     },
     "metadata": {},
     "output_type": "display_data"
    }
   ],
   "source": [
    "%%javascript\n",
    "IPython.OutputArea.prototype._should_scroll = function(lines) {\n",
    "    return false;\n",
    "}"
   ]
  },
  {
   "cell_type": "code",
   "execution_count": 137,
   "id": "5570b745",
   "metadata": {},
   "outputs": [],
   "source": [
    "class OutlierDetector:\n",
    "    def __init__(self, points = None, proximity_matrix = None, pt_list = None, distance='Euclidean', rounding_digit=2):\n",
    "        self.proximity_matrix = proximity_matrix\n",
    "        self.points = points\n",
    "        self.pt_list = pt_list\n",
    "        if self.pt_list:\n",
    "            self.proximity_matrix = pd.DataFrame(proximity_matrix, index=self.pt_list, columns=self.pt_list)\n",
    "            self.points_df = pd.Series(self.pt_list, index=self.pt_list)\n",
    "        elif not self.pt_list and not self.points:\n",
    "            self.pt_list = [f'P{i+1}' for i in range(len(self.proximity_matrix))]\n",
    "            self.points_df = pd.Series(self.pt_list, index=self.pt_list)\n",
    "            self.proximity_matrix = pd.DataFrame(self.proximity_matrix, index=self.pt_list, columns=self.pt_list)\n",
    "        self.distance = distance\n",
    "        self.rounding_digit = rounding_digit\n",
    "        if self.proximity_matrix is None:\n",
    "            self.prepare_proximity_matrix()\n",
    "        \n",
    "    def cal_distance(self, x1, x2):\n",
    "        if self.distance == 'Euclidean':\n",
    "            return round(dist.euclidean(x1,x2),self.rounding_digit)\n",
    "        elif self.distance == 'Manhattan':\n",
    "            return sum([abs(i-j) for i,j in zip(x1,x2)])\n",
    "    \n",
    "    def prepare_proximity_matrix(self):\n",
    "        \n",
    "        self.pt_list = [f'P{i+1}' for i in range(len(self.points))]\n",
    "        self.points_df = pd.Series(self.points, index=self.pt_list)\n",
    "        #print(self.points_df.to_string())\n",
    "        #self.pt_list = [f'P{i+1}' for i in range(len(self.points))]\n",
    "        self.proximity_matrix = pd.DataFrame(index=self.pt_list, columns=self.pt_list)\n",
    "        self.proximity_matrix.fillna('', inplace=True)        \n",
    "        \n",
    "        for i in range(len(self.points)):\n",
    "            for j in range(len(self.points)):                \n",
    "                self.proximity_matrix.iloc[i,j] = self.cal_distance(self.points[i], self.points[j])\n",
    "    \n",
    "    def detect(self, method, k):\n",
    "        self.k = k\n",
    "        if method == 'proximity-based':\n",
    "            self.detect_proximity_based()\n",
    "        elif method == 'ard-based':\n",
    "            self.detect_ard_based()        \n",
    "    \n",
    "    def detect_proximity_based(self):\n",
    "        print('\\nProximity based outlier detection')\n",
    "        display(self.proximity_matrix)\n",
    "        print(f'\\nk = {self.k}')\n",
    "        print('\\nOutlier score, OS for a point p is given by:')\n",
    "        display(Eq(Symbol('OS(p)'), Symbol('d(p, x_{1}) + d(p, x_{2})+...+d(p, x_{k})')/Symbol('k')))\n",
    "        max_os = 0\n",
    "        max_pt = None\n",
    "        for pt in self.pt_list:\n",
    "            if self.points:\n",
    "                print(f'\\nPoint {pt} = {self.points_df[pt]}:')\n",
    "            else:\n",
    "                print(f'\\nPoint {pt}:')\n",
    "            nn = self.proximity_matrix.loc[pt].sort_values(ascending=True)[1:self.k+1]\n",
    "            print(f'\\nNearest {self.k} neighbours are {nn.index.values}')\n",
    "            s = ''\n",
    "            sum_s = 0\n",
    "            for n in nn:\n",
    "                s+=f'{n} +'\n",
    "                sum_s +=n\n",
    "            s = s[:-1]\n",
    "            os = sum_s/self.k\n",
    "            if os > max_os:\n",
    "                max_os = os\n",
    "                max_pt = pt\n",
    "            display(Eq(Symbol(f'OS({pt})'), Symbol(s)/Symbol(f'{self.k}')))\n",
    "            display(Eq(Symbol(f'OS({pt})'), Symbol(f'{sum_s}')/Symbol(f'{self.k}')))\n",
    "            display(Eq(Symbol(f'OS({pt})'), os))\n",
    "            print('\\n----------------------------------------------------------')\n",
    "        print(f'\\nOutlier Score for point {max_pt} is the highest, so it is termed as outlier')\n",
    "    \n",
    "    def detect_ard_based(self):\n",
    "        print('\\nAverage Relative Density based outlier detection')\n",
    "        display(self.proximity_matrix)\n",
    "        print(f'\\nk = {self.k}')\n",
    "#         print('\\nOutlier score, OS for a point p is given by:')\n",
    "#         display(Eq(Symbol('OS(p)'), Symbol('d(p, x_{1}) + d(p, x_{2})+...+d(p, x_{k})')/Symbol('k')))\n",
    "        print('\\nFor all points x, determine local reachability density, lrd(x,k) for k-nearest neighbours using formula\\n')\n",
    "        display(Eq(Symbol('lrd(x,k)'), Symbol('|N(x,k)|')/Symbol('\\u03A3_{y\\u2208N(x,k)}dist(x,y)')))\n",
    "        \n",
    "\n",
    "        density_dict = {}\n",
    "        for pt in self.pt_list:\n",
    "            if self.points:\n",
    "                print(f'\\nPoint {pt} = {self.points_df[pt]}:')\n",
    "            else:\n",
    "                print(f'\\nPoint {pt}:')\n",
    "            nn = self.proximity_matrix.loc[pt].sort_values(ascending=True)[1:self.k+1]\n",
    "            print(f'\\nNearest {self.k} neighbours are {nn.index.values}')\n",
    "            s1 = ''\n",
    "            s2 = ''\n",
    "            sum_s = 0\n",
    "            for i,n in enumerate(nn):\n",
    "                s1 += f'dist({pt},{nn.index.values[i]}) +'\n",
    "                s2+=f'{n} +'\n",
    "                sum_s +=n\n",
    "            s1 = s1[:-1]\n",
    "            s2 = s2[:-1]\n",
    "            density = round(self.k/sum_s, self.rounding_digit)\n",
    "            density_dict[pt] = density\n",
    "#             if os > max_os:\n",
    "#                 max_os = os\n",
    "#                 max_pt = pt\n",
    "            display(Eq(Symbol(f'lrd({pt},{self.k})'), Symbol(f'{self.k}')/Symbol(s1)))\n",
    "            display(Eq(Symbol(f'lrd({pt},{self.k})'), Symbol(f'{self.k}')/Symbol(s2)))\n",
    "            display(Eq(Symbol(f'lrd({pt},{self.k})'), Symbol(f'{self.k}')/Symbol(f'{sum_s}')))\n",
    "            display(Eq(Symbol(f'lrd({pt},{self.k})'), density))\n",
    "            print('\\n----------------------------------------------------------')\n",
    "        \n",
    "        print('\\n==================================================================================')\n",
    "        print('\\nFor all points x, determine Local Outlier Factor LOF(x,k) using Average relative density, ARD(x,k), given by:')\n",
    "        display(Eq(Symbol('ARD(x,k)'), Symbol('lrd(x,k)')/(Symbol('\\u03A3_{y\\u2208N(x,k)}lrd(y,k) / |N(x,k)|'))))\n",
    "        \n",
    "        \n",
    "        min_lof = np.inf\n",
    "        min_pt = None\n",
    "        \n",
    "        for pt in self.pt_list:\n",
    "            if self.points:\n",
    "                print(f'\\nPoint {pt} = {self.points_df[pt]}:')\n",
    "            else:\n",
    "                print(f'\\nPoint {pt}:')\n",
    "            nn = self.proximity_matrix.loc[pt].sort_values(ascending=True)[1:self.k+1]\n",
    "            print(f'\\nNearest {self.k} neighbours are {nn.index.values}')\n",
    "            s1 = ''\n",
    "            s2 = ''\n",
    "            sum_s = 0\n",
    "            for i,n in enumerate(nn):\n",
    "                s1 += f'lrd({nn.index.values[i]}, {self.k})/{self.k} +'\n",
    "                s2+=f'{density_dict[nn.index.values[i]]}/{self.k} +'\n",
    "                sum_s +=density_dict[nn.index.values[i]]/self.k\n",
    "            s1 = s1[:-1]\n",
    "            s2 = s2[:-1]\n",
    "            ard = round(density_dict[pt]/sum_s, self.rounding_digit)\n",
    "            lof = ard\n",
    "            if lof < min_lof:\n",
    "                min_lof = lof\n",
    "                min_pt = pt\n",
    "            display(Eq(Symbol(f'ARD({pt},{self.k})'), Symbol(f'lrd({pt}, {self.k})')/Symbol(s1)))\n",
    "            display(Eq(Symbol(f'ARD({pt},{self.k})'), Symbol(f'{density_dict[pt]}')/Symbol(s2)))\n",
    "            #display(Eq(Symbol(f'density({pt},{self.k})'), Symbol(f'{sum_s}')/Symbol(f'{self.k}')))\n",
    "            display(Eq(Symbol(f'ARD({pt},{self.k})'), ard))\n",
    "            display(Symbol(f'LOF({pt}) = ARD({pt},{self.k}) = {lof}'))\n",
    "            print('\\n----------------------------------------------------------')\n",
    "        print(f'\\nLOF for point {min_pt} is the lowest, so it is termed as outlier')\n",
    "        \n",
    "    "
   ]
  },
  {
   "cell_type": "markdown",
   "id": "6dfe0b5e",
   "metadata": {},
   "source": [
    "## Proximity based outlier detection"
   ]
  },
  {
   "cell_type": "code",
   "execution_count": 138,
   "id": "95fe0c2b",
   "metadata": {},
   "outputs": [
    {
     "name": "stdout",
     "output_type": "stream",
     "text": [
      "\n",
      "Proximity based outlier detection\n"
     ]
    },
    {
     "data": {
      "text/html": [
       "<div>\n",
       "<style scoped>\n",
       "    .dataframe tbody tr th:only-of-type {\n",
       "        vertical-align: middle;\n",
       "    }\n",
       "\n",
       "    .dataframe tbody tr th {\n",
       "        vertical-align: top;\n",
       "    }\n",
       "\n",
       "    .dataframe thead th {\n",
       "        text-align: right;\n",
       "    }\n",
       "</style>\n",
       "<table border=\"1\" class=\"dataframe\">\n",
       "  <thead>\n",
       "    <tr style=\"text-align: right;\">\n",
       "      <th></th>\n",
       "      <th>A</th>\n",
       "      <th>B</th>\n",
       "      <th>C</th>\n",
       "      <th>D</th>\n",
       "      <th>E</th>\n",
       "    </tr>\n",
       "  </thead>\n",
       "  <tbody>\n",
       "    <tr>\n",
       "      <th>A</th>\n",
       "      <td>0</td>\n",
       "      <td>1</td>\n",
       "      <td>4</td>\n",
       "      <td>5</td>\n",
       "      <td>7</td>\n",
       "    </tr>\n",
       "    <tr>\n",
       "      <th>B</th>\n",
       "      <td>1</td>\n",
       "      <td>0</td>\n",
       "      <td>2</td>\n",
       "      <td>6</td>\n",
       "      <td>8</td>\n",
       "    </tr>\n",
       "    <tr>\n",
       "      <th>C</th>\n",
       "      <td>4</td>\n",
       "      <td>2</td>\n",
       "      <td>0</td>\n",
       "      <td>3</td>\n",
       "      <td>4</td>\n",
       "    </tr>\n",
       "    <tr>\n",
       "      <th>D</th>\n",
       "      <td>5</td>\n",
       "      <td>6</td>\n",
       "      <td>3</td>\n",
       "      <td>0</td>\n",
       "      <td>4</td>\n",
       "    </tr>\n",
       "    <tr>\n",
       "      <th>E</th>\n",
       "      <td>7</td>\n",
       "      <td>8</td>\n",
       "      <td>4</td>\n",
       "      <td>4</td>\n",
       "      <td>0</td>\n",
       "    </tr>\n",
       "  </tbody>\n",
       "</table>\n",
       "</div>"
      ],
      "text/plain": [
       "   A  B  C  D  E\n",
       "A  0  1  4  5  7\n",
       "B  1  0  2  6  8\n",
       "C  4  2  0  3  4\n",
       "D  5  6  3  0  4\n",
       "E  7  8  4  4  0"
      ]
     },
     "metadata": {},
     "output_type": "display_data"
    },
    {
     "name": "stdout",
     "output_type": "stream",
     "text": [
      "\n",
      "k = 2\n",
      "\n",
      "Outlier score, OS for a point p is given by:\n"
     ]
    },
    {
     "data": {
      "text/latex": [
       "$\\displaystyle OS(p) = \\frac{d(p, x_{1}) + d(p, x_{2})+...+d(p, x_{k})}{k}$"
      ],
      "text/plain": [
       "Eq(OS(p), d(p, x_{1}) + d(p, x_{2})+...+d(p, x_{k})/k)"
      ]
     },
     "metadata": {},
     "output_type": "display_data"
    },
    {
     "name": "stdout",
     "output_type": "stream",
     "text": [
      "\n",
      "Point A:\n",
      "\n",
      "Nearest 2 neighbours are ['B' 'C']\n"
     ]
    },
    {
     "data": {
      "text/latex": [
       "$\\displaystyle OS(A) = \\frac{1 +4 }{2}$"
      ],
      "text/plain": [
       "Eq(OS(A), 1 +4 /2)"
      ]
     },
     "metadata": {},
     "output_type": "display_data"
    },
    {
     "data": {
      "text/latex": [
       "$\\displaystyle OS(A) = \\frac{5}{2}$"
      ],
      "text/plain": [
       "Eq(OS(A), 5/2)"
      ]
     },
     "metadata": {},
     "output_type": "display_data"
    },
    {
     "data": {
      "text/latex": [
       "$\\displaystyle OS(A) = 2.5$"
      ],
      "text/plain": [
       "Eq(OS(A), 2.5)"
      ]
     },
     "metadata": {},
     "output_type": "display_data"
    },
    {
     "name": "stdout",
     "output_type": "stream",
     "text": [
      "\n",
      "----------------------------------------------------------\n",
      "\n",
      "Point B:\n",
      "\n",
      "Nearest 2 neighbours are ['A' 'C']\n"
     ]
    },
    {
     "data": {
      "text/latex": [
       "$\\displaystyle OS(B) = \\frac{1 +2 }{2}$"
      ],
      "text/plain": [
       "Eq(OS(B), 1 +2 /2)"
      ]
     },
     "metadata": {},
     "output_type": "display_data"
    },
    {
     "data": {
      "text/latex": [
       "$\\displaystyle OS(B) = \\frac{3}{2}$"
      ],
      "text/plain": [
       "Eq(OS(B), 3/2)"
      ]
     },
     "metadata": {},
     "output_type": "display_data"
    },
    {
     "data": {
      "text/latex": [
       "$\\displaystyle OS(B) = 1.5$"
      ],
      "text/plain": [
       "Eq(OS(B), 1.5)"
      ]
     },
     "metadata": {},
     "output_type": "display_data"
    },
    {
     "name": "stdout",
     "output_type": "stream",
     "text": [
      "\n",
      "----------------------------------------------------------\n",
      "\n",
      "Point C:\n",
      "\n",
      "Nearest 2 neighbours are ['B' 'D']\n"
     ]
    },
    {
     "data": {
      "text/latex": [
       "$\\displaystyle OS(C) = \\frac{2 +3 }{2}$"
      ],
      "text/plain": [
       "Eq(OS(C), 2 +3 /2)"
      ]
     },
     "metadata": {},
     "output_type": "display_data"
    },
    {
     "data": {
      "text/latex": [
       "$\\displaystyle OS(C) = \\frac{5}{2}$"
      ],
      "text/plain": [
       "Eq(OS(C), 5/2)"
      ]
     },
     "metadata": {},
     "output_type": "display_data"
    },
    {
     "data": {
      "text/latex": [
       "$\\displaystyle OS(C) = 2.5$"
      ],
      "text/plain": [
       "Eq(OS(C), 2.5)"
      ]
     },
     "metadata": {},
     "output_type": "display_data"
    },
    {
     "name": "stdout",
     "output_type": "stream",
     "text": [
      "\n",
      "----------------------------------------------------------\n",
      "\n",
      "Point D:\n",
      "\n",
      "Nearest 2 neighbours are ['C' 'E']\n"
     ]
    },
    {
     "data": {
      "text/latex": [
       "$\\displaystyle OS(D) = \\frac{3 +4 }{2}$"
      ],
      "text/plain": [
       "Eq(OS(D), 3 +4 /2)"
      ]
     },
     "metadata": {},
     "output_type": "display_data"
    },
    {
     "data": {
      "text/latex": [
       "$\\displaystyle OS(D) = \\frac{7}{2}$"
      ],
      "text/plain": [
       "Eq(OS(D), 7/2)"
      ]
     },
     "metadata": {},
     "output_type": "display_data"
    },
    {
     "data": {
      "text/latex": [
       "$\\displaystyle OS(D) = 3.5$"
      ],
      "text/plain": [
       "Eq(OS(D), 3.5)"
      ]
     },
     "metadata": {},
     "output_type": "display_data"
    },
    {
     "name": "stdout",
     "output_type": "stream",
     "text": [
      "\n",
      "----------------------------------------------------------\n",
      "\n",
      "Point E:\n",
      "\n",
      "Nearest 2 neighbours are ['C' 'D']\n"
     ]
    },
    {
     "data": {
      "text/latex": [
       "$\\displaystyle OS(E) = \\frac{4 +4 }{2}$"
      ],
      "text/plain": [
       "Eq(OS(E), 4 +4 /2)"
      ]
     },
     "metadata": {},
     "output_type": "display_data"
    },
    {
     "data": {
      "text/latex": [
       "$\\displaystyle OS(E) = \\frac{8}{2}$"
      ],
      "text/plain": [
       "Eq(OS(E), 8/2)"
      ]
     },
     "metadata": {},
     "output_type": "display_data"
    },
    {
     "data": {
      "text/latex": [
       "$\\displaystyle OS(E) = 4.0$"
      ],
      "text/plain": [
       "Eq(OS(E), 4.0)"
      ]
     },
     "metadata": {},
     "output_type": "display_data"
    },
    {
     "name": "stdout",
     "output_type": "stream",
     "text": [
      "\n",
      "----------------------------------------------------------\n",
      "\n",
      "Outlier Score for point E is the highest, so it is termed as outlier\n"
     ]
    }
   ],
   "source": [
    "points = [(1,1),(2,2),(4,5),(3,7),(2,6)]\n",
    "pm = [\n",
    "    [0,1,4,5,7],\n",
    "    [1,0,2,6,8],\n",
    "    [4,2,0,3,4],\n",
    "    [5,6,3,0,4],\n",
    "    [7,8,4,4,0]\n",
    "]\n",
    "pt_list = ['A', 'B', 'C', 'D', 'E']\n",
    "\n",
    "#OutlierDetector(points=points).detect(method='proximity-based', k=2)\n",
    "\n",
    "OutlierDetector(proximity_matrix=pm, pt_list=pt_list).detect(method='proximity-based', k=2)\n"
   ]
  },
  {
   "cell_type": "markdown",
   "id": "7518a419",
   "metadata": {},
   "source": [
    "## Average Relative Density based outlier detection"
   ]
  },
  {
   "cell_type": "code",
   "execution_count": 139,
   "id": "285a1de7",
   "metadata": {},
   "outputs": [
    {
     "name": "stdout",
     "output_type": "stream",
     "text": [
      "\n",
      "Average Relative Density based outlier detection\n"
     ]
    },
    {
     "data": {
      "text/html": [
       "<div>\n",
       "<style scoped>\n",
       "    .dataframe tbody tr th:only-of-type {\n",
       "        vertical-align: middle;\n",
       "    }\n",
       "\n",
       "    .dataframe tbody tr th {\n",
       "        vertical-align: top;\n",
       "    }\n",
       "\n",
       "    .dataframe thead th {\n",
       "        text-align: right;\n",
       "    }\n",
       "</style>\n",
       "<table border=\"1\" class=\"dataframe\">\n",
       "  <thead>\n",
       "    <tr style=\"text-align: right;\">\n",
       "      <th></th>\n",
       "      <th>A</th>\n",
       "      <th>B</th>\n",
       "      <th>C</th>\n",
       "      <th>D</th>\n",
       "      <th>E</th>\n",
       "    </tr>\n",
       "  </thead>\n",
       "  <tbody>\n",
       "    <tr>\n",
       "      <th>A</th>\n",
       "      <td>0</td>\n",
       "      <td>1</td>\n",
       "      <td>4</td>\n",
       "      <td>5</td>\n",
       "      <td>7</td>\n",
       "    </tr>\n",
       "    <tr>\n",
       "      <th>B</th>\n",
       "      <td>1</td>\n",
       "      <td>0</td>\n",
       "      <td>2</td>\n",
       "      <td>6</td>\n",
       "      <td>8</td>\n",
       "    </tr>\n",
       "    <tr>\n",
       "      <th>C</th>\n",
       "      <td>4</td>\n",
       "      <td>2</td>\n",
       "      <td>0</td>\n",
       "      <td>3</td>\n",
       "      <td>4</td>\n",
       "    </tr>\n",
       "    <tr>\n",
       "      <th>D</th>\n",
       "      <td>5</td>\n",
       "      <td>6</td>\n",
       "      <td>3</td>\n",
       "      <td>0</td>\n",
       "      <td>4</td>\n",
       "    </tr>\n",
       "    <tr>\n",
       "      <th>E</th>\n",
       "      <td>7</td>\n",
       "      <td>8</td>\n",
       "      <td>4</td>\n",
       "      <td>4</td>\n",
       "      <td>0</td>\n",
       "    </tr>\n",
       "  </tbody>\n",
       "</table>\n",
       "</div>"
      ],
      "text/plain": [
       "   A  B  C  D  E\n",
       "A  0  1  4  5  7\n",
       "B  1  0  2  6  8\n",
       "C  4  2  0  3  4\n",
       "D  5  6  3  0  4\n",
       "E  7  8  4  4  0"
      ]
     },
     "metadata": {},
     "output_type": "display_data"
    },
    {
     "name": "stdout",
     "output_type": "stream",
     "text": [
      "\n",
      "k = 3\n",
      "\n",
      "For all points x, determine local reachability density, lrd(x,k) for k-nearest neighbours using formula\n",
      "\n"
     ]
    },
    {
     "data": {
      "text/latex": [
       "$\\displaystyle lrd(x,k) = \\frac{|N(x,k)|}{Σ_{y∈N(x,k)}dist(x,y)}$"
      ],
      "text/plain": [
       "Eq(lrd(x,k), |N(x,k)|/Σ_{y∈N(x,k)}dist(x,y))"
      ]
     },
     "metadata": {},
     "output_type": "display_data"
    },
    {
     "name": "stdout",
     "output_type": "stream",
     "text": [
      "\n",
      "Point A:\n",
      "\n",
      "Nearest 3 neighbours are ['B' 'C' 'D']\n"
     ]
    },
    {
     "data": {
      "text/latex": [
       "$\\displaystyle lrd(A,3) = \\frac{3}{dist(A,B) +dist(A,C) +dist(A,D) }$"
      ],
      "text/plain": [
       "Eq(lrd(A,3), 3/dist(A,B) +dist(A,C) +dist(A,D) )"
      ]
     },
     "metadata": {},
     "output_type": "display_data"
    },
    {
     "data": {
      "text/latex": [
       "$\\displaystyle lrd(A,3) = \\frac{3}{1 +4 +5 }$"
      ],
      "text/plain": [
       "Eq(lrd(A,3), 3/1 +4 +5 )"
      ]
     },
     "metadata": {},
     "output_type": "display_data"
    },
    {
     "data": {
      "text/latex": [
       "$\\displaystyle lrd(A,3) = \\frac{3}{10}$"
      ],
      "text/plain": [
       "Eq(lrd(A,3), 3/10)"
      ]
     },
     "metadata": {},
     "output_type": "display_data"
    },
    {
     "data": {
      "text/latex": [
       "$\\displaystyle lrd(A,3) = 0.3$"
      ],
      "text/plain": [
       "Eq(lrd(A,3), 0.3)"
      ]
     },
     "metadata": {},
     "output_type": "display_data"
    },
    {
     "name": "stdout",
     "output_type": "stream",
     "text": [
      "\n",
      "----------------------------------------------------------\n",
      "\n",
      "Point B:\n",
      "\n",
      "Nearest 3 neighbours are ['A' 'C' 'D']\n"
     ]
    },
    {
     "data": {
      "text/latex": [
       "$\\displaystyle lrd(B,3) = \\frac{3}{dist(B,A) +dist(B,C) +dist(B,D) }$"
      ],
      "text/plain": [
       "Eq(lrd(B,3), 3/dist(B,A) +dist(B,C) +dist(B,D) )"
      ]
     },
     "metadata": {},
     "output_type": "display_data"
    },
    {
     "data": {
      "text/latex": [
       "$\\displaystyle lrd(B,3) = \\frac{3}{1 +2 +6 }$"
      ],
      "text/plain": [
       "Eq(lrd(B,3), 3/1 +2 +6 )"
      ]
     },
     "metadata": {},
     "output_type": "display_data"
    },
    {
     "data": {
      "text/latex": [
       "$\\displaystyle lrd(B,3) = \\frac{3}{9}$"
      ],
      "text/plain": [
       "Eq(lrd(B,3), 3/9)"
      ]
     },
     "metadata": {},
     "output_type": "display_data"
    },
    {
     "data": {
      "text/latex": [
       "$\\displaystyle lrd(B,3) = 0.333$"
      ],
      "text/plain": [
       "Eq(lrd(B,3), 0.333)"
      ]
     },
     "metadata": {},
     "output_type": "display_data"
    },
    {
     "name": "stdout",
     "output_type": "stream",
     "text": [
      "\n",
      "----------------------------------------------------------\n",
      "\n",
      "Point C:\n",
      "\n",
      "Nearest 3 neighbours are ['B' 'D' 'A']\n"
     ]
    },
    {
     "data": {
      "text/latex": [
       "$\\displaystyle lrd(C,3) = \\frac{3}{dist(C,B) +dist(C,D) +dist(C,A) }$"
      ],
      "text/plain": [
       "Eq(lrd(C,3), 3/dist(C,B) +dist(C,D) +dist(C,A) )"
      ]
     },
     "metadata": {},
     "output_type": "display_data"
    },
    {
     "data": {
      "text/latex": [
       "$\\displaystyle lrd(C,3) = \\frac{3}{2 +3 +4 }$"
      ],
      "text/plain": [
       "Eq(lrd(C,3), 3/2 +3 +4 )"
      ]
     },
     "metadata": {},
     "output_type": "display_data"
    },
    {
     "data": {
      "text/latex": [
       "$\\displaystyle lrd(C,3) = \\frac{3}{9}$"
      ],
      "text/plain": [
       "Eq(lrd(C,3), 3/9)"
      ]
     },
     "metadata": {},
     "output_type": "display_data"
    },
    {
     "data": {
      "text/latex": [
       "$\\displaystyle lrd(C,3) = 0.333$"
      ],
      "text/plain": [
       "Eq(lrd(C,3), 0.333)"
      ]
     },
     "metadata": {},
     "output_type": "display_data"
    },
    {
     "name": "stdout",
     "output_type": "stream",
     "text": [
      "\n",
      "----------------------------------------------------------\n",
      "\n",
      "Point D:\n",
      "\n",
      "Nearest 3 neighbours are ['C' 'E' 'A']\n"
     ]
    },
    {
     "data": {
      "text/latex": [
       "$\\displaystyle lrd(D,3) = \\frac{3}{dist(D,C) +dist(D,E) +dist(D,A) }$"
      ],
      "text/plain": [
       "Eq(lrd(D,3), 3/dist(D,C) +dist(D,E) +dist(D,A) )"
      ]
     },
     "metadata": {},
     "output_type": "display_data"
    },
    {
     "data": {
      "text/latex": [
       "$\\displaystyle lrd(D,3) = \\frac{3}{3 +4 +5 }$"
      ],
      "text/plain": [
       "Eq(lrd(D,3), 3/3 +4 +5 )"
      ]
     },
     "metadata": {},
     "output_type": "display_data"
    },
    {
     "data": {
      "text/latex": [
       "$\\displaystyle lrd(D,3) = \\frac{3}{12}$"
      ],
      "text/plain": [
       "Eq(lrd(D,3), 3/12)"
      ]
     },
     "metadata": {},
     "output_type": "display_data"
    },
    {
     "data": {
      "text/latex": [
       "$\\displaystyle lrd(D,3) = 0.25$"
      ],
      "text/plain": [
       "Eq(lrd(D,3), 0.25)"
      ]
     },
     "metadata": {},
     "output_type": "display_data"
    },
    {
     "name": "stdout",
     "output_type": "stream",
     "text": [
      "\n",
      "----------------------------------------------------------\n",
      "\n",
      "Point E:\n",
      "\n",
      "Nearest 3 neighbours are ['C' 'D' 'A']\n"
     ]
    },
    {
     "data": {
      "text/latex": [
       "$\\displaystyle lrd(E,3) = \\frac{3}{dist(E,C) +dist(E,D) +dist(E,A) }$"
      ],
      "text/plain": [
       "Eq(lrd(E,3), 3/dist(E,C) +dist(E,D) +dist(E,A) )"
      ]
     },
     "metadata": {},
     "output_type": "display_data"
    },
    {
     "data": {
      "text/latex": [
       "$\\displaystyle lrd(E,3) = \\frac{3}{4 +4 +7 }$"
      ],
      "text/plain": [
       "Eq(lrd(E,3), 3/4 +4 +7 )"
      ]
     },
     "metadata": {},
     "output_type": "display_data"
    },
    {
     "data": {
      "text/latex": [
       "$\\displaystyle lrd(E,3) = \\frac{3}{15}$"
      ],
      "text/plain": [
       "Eq(lrd(E,3), 3/15)"
      ]
     },
     "metadata": {},
     "output_type": "display_data"
    },
    {
     "data": {
      "text/latex": [
       "$\\displaystyle lrd(E,3) = 0.2$"
      ],
      "text/plain": [
       "Eq(lrd(E,3), 0.2)"
      ]
     },
     "metadata": {},
     "output_type": "display_data"
    },
    {
     "name": "stdout",
     "output_type": "stream",
     "text": [
      "\n",
      "----------------------------------------------------------\n",
      "\n",
      "==================================================================================\n",
      "\n",
      "For all points x, determine Local Outlier Factor LOF(x,k) using Average relative density, ARD(x,k), given by:\n"
     ]
    },
    {
     "data": {
      "text/latex": [
       "$\\displaystyle ARD(x,k) = \\frac{lrd(x,k)}{Σ_{y∈N(x,k)}lrd(y,k) / |N(x,k)|}$"
      ],
      "text/plain": [
       "Eq(ARD(x,k), lrd(x,k)/Σ_{y∈N(x,k)}lrd(y,k) / |N(x,k)|)"
      ]
     },
     "metadata": {},
     "output_type": "display_data"
    },
    {
     "name": "stdout",
     "output_type": "stream",
     "text": [
      "\n",
      "Point A:\n",
      "\n",
      "Nearest 3 neighbours are ['B' 'C' 'D']\n"
     ]
    },
    {
     "data": {
      "text/latex": [
       "$\\displaystyle ARD(A,3) = \\frac{lrd(A, 3)}{lrd(B, 3)/3 +lrd(C, 3)/3 +lrd(D, 3)/3 }$"
      ],
      "text/plain": [
       "Eq(ARD(A,3), lrd(A, 3)/lrd(B, 3)/3 +lrd(C, 3)/3 +lrd(D, 3)/3 )"
      ]
     },
     "metadata": {},
     "output_type": "display_data"
    },
    {
     "data": {
      "text/latex": [
       "$\\displaystyle ARD(A,3) = \\frac{0.3}{0.333/3 +0.333/3 +0.25/3 }$"
      ],
      "text/plain": [
       "Eq(ARD(A,3), 0.3/0.333/3 +0.333/3 +0.25/3 )"
      ]
     },
     "metadata": {},
     "output_type": "display_data"
    },
    {
     "data": {
      "text/latex": [
       "$\\displaystyle ARD(A,3) = 0.983$"
      ],
      "text/plain": [
       "Eq(ARD(A,3), 0.983)"
      ]
     },
     "metadata": {},
     "output_type": "display_data"
    },
    {
     "data": {
      "text/latex": [
       "$\\displaystyle LOF(A) = ARD(A,3) = 0.983$"
      ],
      "text/plain": [
       "LOF(A) = ARD(A,3) = 0.983"
      ]
     },
     "metadata": {},
     "output_type": "display_data"
    },
    {
     "name": "stdout",
     "output_type": "stream",
     "text": [
      "\n",
      "----------------------------------------------------------\n",
      "\n",
      "Point B:\n",
      "\n",
      "Nearest 3 neighbours are ['A' 'C' 'D']\n"
     ]
    },
    {
     "data": {
      "text/latex": [
       "$\\displaystyle ARD(B,3) = \\frac{lrd(B, 3)}{lrd(A, 3)/3 +lrd(C, 3)/3 +lrd(D, 3)/3 }$"
      ],
      "text/plain": [
       "Eq(ARD(B,3), lrd(B, 3)/lrd(A, 3)/3 +lrd(C, 3)/3 +lrd(D, 3)/3 )"
      ]
     },
     "metadata": {},
     "output_type": "display_data"
    },
    {
     "data": {
      "text/latex": [
       "$\\displaystyle ARD(B,3) = \\frac{0.333}{0.3/3 +0.333/3 +0.25/3 }$"
      ],
      "text/plain": [
       "Eq(ARD(B,3), 0.333/0.3/3 +0.333/3 +0.25/3 )"
      ]
     },
     "metadata": {},
     "output_type": "display_data"
    },
    {
     "data": {
      "text/latex": [
       "$\\displaystyle ARD(B,3) = 1.131$"
      ],
      "text/plain": [
       "Eq(ARD(B,3), 1.131)"
      ]
     },
     "metadata": {},
     "output_type": "display_data"
    },
    {
     "data": {
      "text/latex": [
       "$\\displaystyle LOF(B) = ARD(B,3) = 1.131$"
      ],
      "text/plain": [
       "LOF(B) = ARD(B,3) = 1.131"
      ]
     },
     "metadata": {},
     "output_type": "display_data"
    },
    {
     "name": "stdout",
     "output_type": "stream",
     "text": [
      "\n",
      "----------------------------------------------------------\n",
      "\n",
      "Point C:\n",
      "\n",
      "Nearest 3 neighbours are ['B' 'D' 'A']\n"
     ]
    },
    {
     "data": {
      "text/latex": [
       "$\\displaystyle ARD(C,3) = \\frac{lrd(C, 3)}{lrd(B, 3)/3 +lrd(D, 3)/3 +lrd(A, 3)/3 }$"
      ],
      "text/plain": [
       "Eq(ARD(C,3), lrd(C, 3)/lrd(B, 3)/3 +lrd(D, 3)/3 +lrd(A, 3)/3 )"
      ]
     },
     "metadata": {},
     "output_type": "display_data"
    },
    {
     "data": {
      "text/latex": [
       "$\\displaystyle ARD(C,3) = \\frac{0.333}{0.333/3 +0.25/3 +0.3/3 }$"
      ],
      "text/plain": [
       "Eq(ARD(C,3), 0.333/0.333/3 +0.25/3 +0.3/3 )"
      ]
     },
     "metadata": {},
     "output_type": "display_data"
    },
    {
     "data": {
      "text/latex": [
       "$\\displaystyle ARD(C,3) = 1.131$"
      ],
      "text/plain": [
       "Eq(ARD(C,3), 1.131)"
      ]
     },
     "metadata": {},
     "output_type": "display_data"
    },
    {
     "data": {
      "text/latex": [
       "$\\displaystyle LOF(C) = ARD(C,3) = 1.131$"
      ],
      "text/plain": [
       "LOF(C) = ARD(C,3) = 1.131"
      ]
     },
     "metadata": {},
     "output_type": "display_data"
    },
    {
     "name": "stdout",
     "output_type": "stream",
     "text": [
      "\n",
      "----------------------------------------------------------\n",
      "\n",
      "Point D:\n",
      "\n",
      "Nearest 3 neighbours are ['C' 'E' 'A']\n"
     ]
    },
    {
     "data": {
      "text/latex": [
       "$\\displaystyle ARD(D,3) = \\frac{lrd(D, 3)}{lrd(C, 3)/3 +lrd(E, 3)/3 +lrd(A, 3)/3 }$"
      ],
      "text/plain": [
       "Eq(ARD(D,3), lrd(D, 3)/lrd(C, 3)/3 +lrd(E, 3)/3 +lrd(A, 3)/3 )"
      ]
     },
     "metadata": {},
     "output_type": "display_data"
    },
    {
     "data": {
      "text/latex": [
       "$\\displaystyle ARD(D,3) = \\frac{0.25}{0.333/3 +0.2/3 +0.3/3 }$"
      ],
      "text/plain": [
       "Eq(ARD(D,3), 0.25/0.333/3 +0.2/3 +0.3/3 )"
      ]
     },
     "metadata": {},
     "output_type": "display_data"
    },
    {
     "data": {
      "text/latex": [
       "$\\displaystyle ARD(D,3) = 0.9$"
      ],
      "text/plain": [
       "Eq(ARD(D,3), 0.9)"
      ]
     },
     "metadata": {},
     "output_type": "display_data"
    },
    {
     "data": {
      "text/latex": [
       "$\\displaystyle LOF(D) = ARD(D,3) = 0.9$"
      ],
      "text/plain": [
       "LOF(D) = ARD(D,3) = 0.9"
      ]
     },
     "metadata": {},
     "output_type": "display_data"
    },
    {
     "name": "stdout",
     "output_type": "stream",
     "text": [
      "\n",
      "----------------------------------------------------------\n",
      "\n",
      "Point E:\n",
      "\n",
      "Nearest 3 neighbours are ['C' 'D' 'A']\n"
     ]
    },
    {
     "data": {
      "text/latex": [
       "$\\displaystyle ARD(E,3) = \\frac{lrd(E, 3)}{lrd(C, 3)/3 +lrd(D, 3)/3 +lrd(A, 3)/3 }$"
      ],
      "text/plain": [
       "Eq(ARD(E,3), lrd(E, 3)/lrd(C, 3)/3 +lrd(D, 3)/3 +lrd(A, 3)/3 )"
      ]
     },
     "metadata": {},
     "output_type": "display_data"
    },
    {
     "data": {
      "text/latex": [
       "$\\displaystyle ARD(E,3) = \\frac{0.2}{0.333/3 +0.25/3 +0.3/3 }$"
      ],
      "text/plain": [
       "Eq(ARD(E,3), 0.2/0.333/3 +0.25/3 +0.3/3 )"
      ]
     },
     "metadata": {},
     "output_type": "display_data"
    },
    {
     "data": {
      "text/latex": [
       "$\\displaystyle ARD(E,3) = 0.68$"
      ],
      "text/plain": [
       "Eq(ARD(E,3), 0.68)"
      ]
     },
     "metadata": {},
     "output_type": "display_data"
    },
    {
     "data": {
      "text/latex": [
       "$\\displaystyle LOF(E) = ARD(E,3) = 0.68$"
      ],
      "text/plain": [
       "LOF(E) = ARD(E,3) = 0.68"
      ]
     },
     "metadata": {},
     "output_type": "display_data"
    },
    {
     "name": "stdout",
     "output_type": "stream",
     "text": [
      "\n",
      "----------------------------------------------------------\n",
      "\n",
      "LOF for point E is the lowest, so it is termed as outlier\n"
     ]
    }
   ],
   "source": [
    "OutlierDetector(proximity_matrix=pm, pt_list=pt_list, rounding_digit=3).detect(method='ard-based', k=3)"
   ]
  },
  {
   "cell_type": "code",
   "execution_count": null,
   "id": "e2c68a1b",
   "metadata": {},
   "outputs": [],
   "source": []
  },
  {
   "cell_type": "code",
   "execution_count": null,
   "id": "84412be2",
   "metadata": {},
   "outputs": [],
   "source": []
  }
 ],
 "metadata": {
  "kernelspec": {
   "display_name": "Python 3 (ipykernel)",
   "language": "python",
   "name": "python3"
  },
  "language_info": {
   "codemirror_mode": {
    "name": "ipython",
    "version": 3
   },
   "file_extension": ".py",
   "mimetype": "text/x-python",
   "name": "python",
   "nbconvert_exporter": "python",
   "pygments_lexer": "ipython3",
   "version": "3.7.6"
  }
 },
 "nbformat": 4,
 "nbformat_minor": 5
}
