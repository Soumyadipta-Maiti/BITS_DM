{
 "cells": [
  {
   "cell_type": "code",
   "execution_count": 3,
   "id": "4085e2c1",
   "metadata": {},
   "outputs": [],
   "source": [
    "import numpy as np\n",
    "import pandas as pd\n",
    "import scipy.spatial.distance as dist\n",
    "from sympy import *\n",
    "from collections import defaultdict"
   ]
  },
  {
   "cell_type": "code",
   "execution_count": 2,
   "id": "223aa364",
   "metadata": {},
   "outputs": [
    {
     "data": {
      "application/javascript": [
       "IPython.OutputArea.prototype._should_scroll = function(lines) {\n",
       "    return false;\n",
       "}\n"
      ],
      "text/plain": [
       "<IPython.core.display.Javascript object>"
      ]
     },
     "metadata": {},
     "output_type": "display_data"
    }
   ],
   "source": [
    "%%javascript\n",
    "IPython.OutputArea.prototype._should_scroll = function(lines) {\n",
    "    return false;\n",
    "}"
   ]
  },
  {
   "cell_type": "code",
   "execution_count": 63,
   "id": "9dd9b0f6",
   "metadata": {},
   "outputs": [],
   "source": [
    "class PageRank:\n",
    "    def __init__(self, edge_list, init_val=None, rounding_digit = 3, n_iter = 10):\n",
    "        self.edge_list = edge_list\n",
    "        self.prepare_page_dict()\n",
    "        self.rounding_digit = rounding_digit\n",
    "        self.n_iter = n_iter\n",
    "        if init_val:\n",
    "            self.init_val = init_val\n",
    "        else:\n",
    "            self.init_val = [1/len(self.page_list) for x in self.page_list]\n",
    "    \n",
    "    def prepare_page_dict(self):\n",
    "        self.page_source_dict = defaultdict(list)\n",
    "        self.page_dest_dict = defaultdict(list)\n",
    "        self.page_list = []\n",
    "        for s,d in self.edge_list:\n",
    "            self.page_source_dict[s].append(d)\n",
    "            self.page_dest_dict[d].append(s)\n",
    "            \n",
    "            if s not in self.page_list:\n",
    "                self.page_list.append(s)\n",
    "            if d not in self.page_list:\n",
    "                self.page_list.append(d)\n",
    "        self.page_list.sort()\n",
    "        \n",
    "    def evaluate(self):\n",
    "        print('Rank of different webpages:\\n')\n",
    "#         print(self.page_source_dict)\n",
    "#         print(self.page_dest_dict)\n",
    "#         print(self.page_list)\n",
    "        for page in self.page_list:\n",
    "            if self.page_dest_dict[page]:\n",
    "                s = ''\n",
    "                for dest in self.page_dest_dict[page]:\n",
    "                    s += f'R({dest})/{len(self.page_source_dict[dest])} +'\n",
    "                s = s[:-1]\n",
    "                display(Symbol(f'R({page})={s}'))\n",
    "        self.iteration_matrix = pd.DataFrame(index=self.page_list)\n",
    "        \n",
    "        vals = {x:y for x, y in zip(self.page_list, self.init_val)}\n",
    "        print(f'\\nInitial values:\\n{vals}')\n",
    "        \n",
    "        self.iteration_matrix['Initial Values'] = self.init_val\n",
    "        n_iteration = 1\n",
    "        cur_val = vals\n",
    "        rank_list = []\n",
    "        prev_rank_list = []\n",
    "        while n_iteration <= self.n_iter:\n",
    "            print(f'\\nIteration {n_iteration}:\\n')\n",
    "            for page in self.page_list: \n",
    "                if self.page_dest_dict[page]:\n",
    "                    s = ''\n",
    "                    rank = 0\n",
    "                    for dest in self.page_dest_dict[page]:\n",
    "                        s += f'{cur_val[dest]}/{len(self.page_source_dict[dest])} +'\n",
    "                        rank+= cur_val[dest]/len(self.page_source_dict[dest])\n",
    "                    s = s[:-1]\n",
    "                    \n",
    "                    display(Symbol(f'R({page})={s} = {round(rank, self.rounding_digit)}'))\n",
    "                else:\n",
    "                    rank = cur_val[page]\n",
    "                    display(Symbol(f'R({page}) = {rank}'))\n",
    "                rank = round(rank, self.rounding_digit)\n",
    "                vals[page] = rank\n",
    "                rank_list.append(rank)\n",
    "            #print(rank_list)\n",
    "            \n",
    "            self.iteration_matrix[f'Iteration {n_iteration}'] = rank_list\n",
    "            if prev_rank_list == rank_list:\n",
    "                print('\\n Converged')\n",
    "                break\n",
    "            n_iteration +=1\n",
    "            \n",
    "            prev_rank_list = rank_list\n",
    "            rank_list = []\n",
    "            cur_val = vals\n",
    "            print('--------------------------------------------------------------')\n",
    "        self.iteration_matrix['Page rank'] = self.iteration_matrix[self.iteration_matrix.columns[-1]]. \\\n",
    "                                                    rank(method='dense', ascending=False).astype(int)\n",
    "        display(self.iteration_matrix)"
   ]
  },
  {
   "cell_type": "code",
   "execution_count": 64,
   "id": "afc15a2a",
   "metadata": {},
   "outputs": [
    {
     "name": "stdout",
     "output_type": "stream",
     "text": [
      "Rank of different webpages:\n",
      "\n"
     ]
    },
    {
     "data": {
      "text/latex": [
       "$\\displaystyle R(A)=R(C)/3 $"
      ],
      "text/plain": [
       "R(A)=R(C)/3 "
      ]
     },
     "metadata": {},
     "output_type": "display_data"
    },
    {
     "data": {
      "text/latex": [
       "$\\displaystyle R(B)=R(A)/2 +R(C)/3 $"
      ],
      "text/plain": [
       "R(B)=R(A)/2 +R(C)/3 "
      ]
     },
     "metadata": {},
     "output_type": "display_data"
    },
    {
     "data": {
      "text/latex": [
       "$\\displaystyle R(C)=R(A)/2 +R(D)/1 $"
      ],
      "text/plain": [
       "R(C)=R(A)/2 +R(D)/1 "
      ]
     },
     "metadata": {},
     "output_type": "display_data"
    },
    {
     "data": {
      "text/latex": [
       "$\\displaystyle R(D)=R(B)/1 +R(C)/3 $"
      ],
      "text/plain": [
       "R(D)=R(B)/1 +R(C)/3 "
      ]
     },
     "metadata": {},
     "output_type": "display_data"
    },
    {
     "name": "stdout",
     "output_type": "stream",
     "text": [
      "\n",
      "Initial values:\n",
      "{'A': 0.25, 'B': 0.25, 'C': 0.25, 'D': 0.25}\n",
      "\n",
      "Iteration 1:\n",
      "\n"
     ]
    },
    {
     "data": {
      "text/latex": [
       "$\\displaystyle R(A)=0.25/3  = 0.083$"
      ],
      "text/plain": [
       "R(A)=0.25/3  = 0.083"
      ]
     },
     "metadata": {},
     "output_type": "display_data"
    },
    {
     "data": {
      "text/latex": [
       "$\\displaystyle R(B)=0.083/2 +0.25/3  = 0.125$"
      ],
      "text/plain": [
       "R(B)=0.083/2 +0.25/3  = 0.125"
      ]
     },
     "metadata": {},
     "output_type": "display_data"
    },
    {
     "data": {
      "text/latex": [
       "$\\displaystyle R(C)=0.083/2 +0.25/1  = 0.291$"
      ],
      "text/plain": [
       "R(C)=0.083/2 +0.25/1  = 0.291"
      ]
     },
     "metadata": {},
     "output_type": "display_data"
    },
    {
     "data": {
      "text/latex": [
       "$\\displaystyle R(D)=0.125/1 +0.291/3  = 0.222$"
      ],
      "text/plain": [
       "R(D)=0.125/1 +0.291/3  = 0.222"
      ]
     },
     "metadata": {},
     "output_type": "display_data"
    },
    {
     "name": "stdout",
     "output_type": "stream",
     "text": [
      "--------------------------------------------------------------\n",
      "\n",
      "Iteration 2:\n",
      "\n"
     ]
    },
    {
     "data": {
      "text/latex": [
       "$\\displaystyle R(A)=0.291/3  = 0.097$"
      ],
      "text/plain": [
       "R(A)=0.291/3  = 0.097"
      ]
     },
     "metadata": {},
     "output_type": "display_data"
    },
    {
     "data": {
      "text/latex": [
       "$\\displaystyle R(B)=0.097/2 +0.291/3  = 0.145$"
      ],
      "text/plain": [
       "R(B)=0.097/2 +0.291/3  = 0.145"
      ]
     },
     "metadata": {},
     "output_type": "display_data"
    },
    {
     "data": {
      "text/latex": [
       "$\\displaystyle R(C)=0.097/2 +0.222/1  = 0.271$"
      ],
      "text/plain": [
       "R(C)=0.097/2 +0.222/1  = 0.271"
      ]
     },
     "metadata": {},
     "output_type": "display_data"
    },
    {
     "data": {
      "text/latex": [
       "$\\displaystyle R(D)=0.145/1 +0.271/3  = 0.235$"
      ],
      "text/plain": [
       "R(D)=0.145/1 +0.271/3  = 0.235"
      ]
     },
     "metadata": {},
     "output_type": "display_data"
    },
    {
     "name": "stdout",
     "output_type": "stream",
     "text": [
      "--------------------------------------------------------------\n",
      "\n",
      "Iteration 3:\n",
      "\n"
     ]
    },
    {
     "data": {
      "text/latex": [
       "$\\displaystyle R(A)=0.271/3  = 0.09$"
      ],
      "text/plain": [
       "R(A)=0.271/3  = 0.09"
      ]
     },
     "metadata": {},
     "output_type": "display_data"
    },
    {
     "data": {
      "text/latex": [
       "$\\displaystyle R(B)=0.09/2 +0.271/3  = 0.135$"
      ],
      "text/plain": [
       "R(B)=0.09/2 +0.271/3  = 0.135"
      ]
     },
     "metadata": {},
     "output_type": "display_data"
    },
    {
     "data": {
      "text/latex": [
       "$\\displaystyle R(C)=0.09/2 +0.235/1  = 0.28$"
      ],
      "text/plain": [
       "R(C)=0.09/2 +0.235/1  = 0.28"
      ]
     },
     "metadata": {},
     "output_type": "display_data"
    },
    {
     "data": {
      "text/latex": [
       "$\\displaystyle R(D)=0.135/1 +0.28/3  = 0.228$"
      ],
      "text/plain": [
       "R(D)=0.135/1 +0.28/3  = 0.228"
      ]
     },
     "metadata": {},
     "output_type": "display_data"
    },
    {
     "name": "stdout",
     "output_type": "stream",
     "text": [
      "--------------------------------------------------------------\n",
      "\n",
      "Iteration 4:\n",
      "\n"
     ]
    },
    {
     "data": {
      "text/latex": [
       "$\\displaystyle R(A)=0.28/3  = 0.093$"
      ],
      "text/plain": [
       "R(A)=0.28/3  = 0.093"
      ]
     },
     "metadata": {},
     "output_type": "display_data"
    },
    {
     "data": {
      "text/latex": [
       "$\\displaystyle R(B)=0.093/2 +0.28/3  = 0.14$"
      ],
      "text/plain": [
       "R(B)=0.093/2 +0.28/3  = 0.14"
      ]
     },
     "metadata": {},
     "output_type": "display_data"
    },
    {
     "data": {
      "text/latex": [
       "$\\displaystyle R(C)=0.093/2 +0.228/1  = 0.275$"
      ],
      "text/plain": [
       "R(C)=0.093/2 +0.228/1  = 0.275"
      ]
     },
     "metadata": {},
     "output_type": "display_data"
    },
    {
     "data": {
      "text/latex": [
       "$\\displaystyle R(D)=0.14/1 +0.275/3  = 0.232$"
      ],
      "text/plain": [
       "R(D)=0.14/1 +0.275/3  = 0.232"
      ]
     },
     "metadata": {},
     "output_type": "display_data"
    },
    {
     "name": "stdout",
     "output_type": "stream",
     "text": [
      "--------------------------------------------------------------\n",
      "\n",
      "Iteration 5:\n",
      "\n"
     ]
    },
    {
     "data": {
      "text/latex": [
       "$\\displaystyle R(A)=0.275/3  = 0.092$"
      ],
      "text/plain": [
       "R(A)=0.275/3  = 0.092"
      ]
     },
     "metadata": {},
     "output_type": "display_data"
    },
    {
     "data": {
      "text/latex": [
       "$\\displaystyle R(B)=0.092/2 +0.275/3  = 0.138$"
      ],
      "text/plain": [
       "R(B)=0.092/2 +0.275/3  = 0.138"
      ]
     },
     "metadata": {},
     "output_type": "display_data"
    },
    {
     "data": {
      "text/latex": [
       "$\\displaystyle R(C)=0.092/2 +0.232/1  = 0.278$"
      ],
      "text/plain": [
       "R(C)=0.092/2 +0.232/1  = 0.278"
      ]
     },
     "metadata": {},
     "output_type": "display_data"
    },
    {
     "data": {
      "text/latex": [
       "$\\displaystyle R(D)=0.138/1 +0.278/3  = 0.231$"
      ],
      "text/plain": [
       "R(D)=0.138/1 +0.278/3  = 0.231"
      ]
     },
     "metadata": {},
     "output_type": "display_data"
    },
    {
     "name": "stdout",
     "output_type": "stream",
     "text": [
      "--------------------------------------------------------------\n",
      "\n",
      "Iteration 6:\n",
      "\n"
     ]
    },
    {
     "data": {
      "text/latex": [
       "$\\displaystyle R(A)=0.278/3  = 0.093$"
      ],
      "text/plain": [
       "R(A)=0.278/3  = 0.093"
      ]
     },
     "metadata": {},
     "output_type": "display_data"
    },
    {
     "data": {
      "text/latex": [
       "$\\displaystyle R(B)=0.093/2 +0.278/3  = 0.139$"
      ],
      "text/plain": [
       "R(B)=0.093/2 +0.278/3  = 0.139"
      ]
     },
     "metadata": {},
     "output_type": "display_data"
    },
    {
     "data": {
      "text/latex": [
       "$\\displaystyle R(C)=0.093/2 +0.231/1  = 0.278$"
      ],
      "text/plain": [
       "R(C)=0.093/2 +0.231/1  = 0.278"
      ]
     },
     "metadata": {},
     "output_type": "display_data"
    },
    {
     "data": {
      "text/latex": [
       "$\\displaystyle R(D)=0.139/1 +0.278/3  = 0.232$"
      ],
      "text/plain": [
       "R(D)=0.139/1 +0.278/3  = 0.232"
      ]
     },
     "metadata": {},
     "output_type": "display_data"
    },
    {
     "name": "stdout",
     "output_type": "stream",
     "text": [
      "--------------------------------------------------------------\n",
      "\n",
      "Iteration 7:\n",
      "\n"
     ]
    },
    {
     "data": {
      "text/latex": [
       "$\\displaystyle R(A)=0.278/3  = 0.093$"
      ],
      "text/plain": [
       "R(A)=0.278/3  = 0.093"
      ]
     },
     "metadata": {},
     "output_type": "display_data"
    },
    {
     "data": {
      "text/latex": [
       "$\\displaystyle R(B)=0.093/2 +0.278/3  = 0.139$"
      ],
      "text/plain": [
       "R(B)=0.093/2 +0.278/3  = 0.139"
      ]
     },
     "metadata": {},
     "output_type": "display_data"
    },
    {
     "data": {
      "text/latex": [
       "$\\displaystyle R(C)=0.093/2 +0.232/1  = 0.279$"
      ],
      "text/plain": [
       "R(C)=0.093/2 +0.232/1  = 0.279"
      ]
     },
     "metadata": {},
     "output_type": "display_data"
    },
    {
     "data": {
      "text/latex": [
       "$\\displaystyle R(D)=0.139/1 +0.279/3  = 0.232$"
      ],
      "text/plain": [
       "R(D)=0.139/1 +0.279/3  = 0.232"
      ]
     },
     "metadata": {},
     "output_type": "display_data"
    },
    {
     "name": "stdout",
     "output_type": "stream",
     "text": [
      "--------------------------------------------------------------\n",
      "\n",
      "Iteration 8:\n",
      "\n"
     ]
    },
    {
     "data": {
      "text/latex": [
       "$\\displaystyle R(A)=0.279/3  = 0.093$"
      ],
      "text/plain": [
       "R(A)=0.279/3  = 0.093"
      ]
     },
     "metadata": {},
     "output_type": "display_data"
    },
    {
     "data": {
      "text/latex": [
       "$\\displaystyle R(B)=0.093/2 +0.279/3  = 0.14$"
      ],
      "text/plain": [
       "R(B)=0.093/2 +0.279/3  = 0.14"
      ]
     },
     "metadata": {},
     "output_type": "display_data"
    },
    {
     "data": {
      "text/latex": [
       "$\\displaystyle R(C)=0.093/2 +0.232/1  = 0.279$"
      ],
      "text/plain": [
       "R(C)=0.093/2 +0.232/1  = 0.279"
      ]
     },
     "metadata": {},
     "output_type": "display_data"
    },
    {
     "data": {
      "text/latex": [
       "$\\displaystyle R(D)=0.14/1 +0.279/3  = 0.233$"
      ],
      "text/plain": [
       "R(D)=0.14/1 +0.279/3  = 0.233"
      ]
     },
     "metadata": {},
     "output_type": "display_data"
    },
    {
     "name": "stdout",
     "output_type": "stream",
     "text": [
      "--------------------------------------------------------------\n",
      "\n",
      "Iteration 9:\n",
      "\n"
     ]
    },
    {
     "data": {
      "text/latex": [
       "$\\displaystyle R(A)=0.279/3  = 0.093$"
      ],
      "text/plain": [
       "R(A)=0.279/3  = 0.093"
      ]
     },
     "metadata": {},
     "output_type": "display_data"
    },
    {
     "data": {
      "text/latex": [
       "$\\displaystyle R(B)=0.093/2 +0.279/3  = 0.14$"
      ],
      "text/plain": [
       "R(B)=0.093/2 +0.279/3  = 0.14"
      ]
     },
     "metadata": {},
     "output_type": "display_data"
    },
    {
     "data": {
      "text/latex": [
       "$\\displaystyle R(C)=0.093/2 +0.233/1  = 0.28$"
      ],
      "text/plain": [
       "R(C)=0.093/2 +0.233/1  = 0.28"
      ]
     },
     "metadata": {},
     "output_type": "display_data"
    },
    {
     "data": {
      "text/latex": [
       "$\\displaystyle R(D)=0.14/1 +0.28/3  = 0.233$"
      ],
      "text/plain": [
       "R(D)=0.14/1 +0.28/3  = 0.233"
      ]
     },
     "metadata": {},
     "output_type": "display_data"
    },
    {
     "name": "stdout",
     "output_type": "stream",
     "text": [
      "--------------------------------------------------------------\n",
      "\n",
      "Iteration 10:\n",
      "\n"
     ]
    },
    {
     "data": {
      "text/latex": [
       "$\\displaystyle R(A)=0.28/3  = 0.093$"
      ],
      "text/plain": [
       "R(A)=0.28/3  = 0.093"
      ]
     },
     "metadata": {},
     "output_type": "display_data"
    },
    {
     "data": {
      "text/latex": [
       "$\\displaystyle R(B)=0.093/2 +0.28/3  = 0.14$"
      ],
      "text/plain": [
       "R(B)=0.093/2 +0.28/3  = 0.14"
      ]
     },
     "metadata": {},
     "output_type": "display_data"
    },
    {
     "data": {
      "text/latex": [
       "$\\displaystyle R(C)=0.093/2 +0.233/1  = 0.28$"
      ],
      "text/plain": [
       "R(C)=0.093/2 +0.233/1  = 0.28"
      ]
     },
     "metadata": {},
     "output_type": "display_data"
    },
    {
     "data": {
      "text/latex": [
       "$\\displaystyle R(D)=0.14/1 +0.28/3  = 0.233$"
      ],
      "text/plain": [
       "R(D)=0.14/1 +0.28/3  = 0.233"
      ]
     },
     "metadata": {},
     "output_type": "display_data"
    },
    {
     "name": "stdout",
     "output_type": "stream",
     "text": [
      "\n",
      " Converged\n"
     ]
    },
    {
     "data": {
      "text/html": [
       "<div>\n",
       "<style scoped>\n",
       "    .dataframe tbody tr th:only-of-type {\n",
       "        vertical-align: middle;\n",
       "    }\n",
       "\n",
       "    .dataframe tbody tr th {\n",
       "        vertical-align: top;\n",
       "    }\n",
       "\n",
       "    .dataframe thead th {\n",
       "        text-align: right;\n",
       "    }\n",
       "</style>\n",
       "<table border=\"1\" class=\"dataframe\">\n",
       "  <thead>\n",
       "    <tr style=\"text-align: right;\">\n",
       "      <th></th>\n",
       "      <th>Initial Values</th>\n",
       "      <th>Iteration 1</th>\n",
       "      <th>Iteration 2</th>\n",
       "      <th>Iteration 3</th>\n",
       "      <th>Iteration 4</th>\n",
       "      <th>Iteration 5</th>\n",
       "      <th>Iteration 6</th>\n",
       "      <th>Iteration 7</th>\n",
       "      <th>Iteration 8</th>\n",
       "      <th>Iteration 9</th>\n",
       "      <th>Iteration 10</th>\n",
       "      <th>Page rank</th>\n",
       "    </tr>\n",
       "  </thead>\n",
       "  <tbody>\n",
       "    <tr>\n",
       "      <th>A</th>\n",
       "      <td>0.25</td>\n",
       "      <td>0.083</td>\n",
       "      <td>0.097</td>\n",
       "      <td>0.090</td>\n",
       "      <td>0.093</td>\n",
       "      <td>0.092</td>\n",
       "      <td>0.093</td>\n",
       "      <td>0.093</td>\n",
       "      <td>0.093</td>\n",
       "      <td>0.093</td>\n",
       "      <td>0.093</td>\n",
       "      <td>4</td>\n",
       "    </tr>\n",
       "    <tr>\n",
       "      <th>B</th>\n",
       "      <td>0.25</td>\n",
       "      <td>0.125</td>\n",
       "      <td>0.145</td>\n",
       "      <td>0.135</td>\n",
       "      <td>0.140</td>\n",
       "      <td>0.138</td>\n",
       "      <td>0.139</td>\n",
       "      <td>0.139</td>\n",
       "      <td>0.140</td>\n",
       "      <td>0.140</td>\n",
       "      <td>0.140</td>\n",
       "      <td>3</td>\n",
       "    </tr>\n",
       "    <tr>\n",
       "      <th>C</th>\n",
       "      <td>0.25</td>\n",
       "      <td>0.291</td>\n",
       "      <td>0.271</td>\n",
       "      <td>0.280</td>\n",
       "      <td>0.275</td>\n",
       "      <td>0.278</td>\n",
       "      <td>0.278</td>\n",
       "      <td>0.279</td>\n",
       "      <td>0.279</td>\n",
       "      <td>0.280</td>\n",
       "      <td>0.280</td>\n",
       "      <td>1</td>\n",
       "    </tr>\n",
       "    <tr>\n",
       "      <th>D</th>\n",
       "      <td>0.25</td>\n",
       "      <td>0.222</td>\n",
       "      <td>0.235</td>\n",
       "      <td>0.228</td>\n",
       "      <td>0.232</td>\n",
       "      <td>0.231</td>\n",
       "      <td>0.232</td>\n",
       "      <td>0.232</td>\n",
       "      <td>0.233</td>\n",
       "      <td>0.233</td>\n",
       "      <td>0.233</td>\n",
       "      <td>2</td>\n",
       "    </tr>\n",
       "  </tbody>\n",
       "</table>\n",
       "</div>"
      ],
      "text/plain": [
       "   Initial Values  Iteration 1  Iteration 2  Iteration 3  Iteration 4  \\\n",
       "A            0.25        0.083        0.097        0.090        0.093   \n",
       "B            0.25        0.125        0.145        0.135        0.140   \n",
       "C            0.25        0.291        0.271        0.280        0.275   \n",
       "D            0.25        0.222        0.235        0.228        0.232   \n",
       "\n",
       "   Iteration 5  Iteration 6  Iteration 7  Iteration 8  Iteration 9  \\\n",
       "A        0.092        0.093        0.093        0.093        0.093   \n",
       "B        0.138        0.139        0.139        0.140        0.140   \n",
       "C        0.278        0.278        0.279        0.279        0.280   \n",
       "D        0.231        0.232        0.232        0.233        0.233   \n",
       "\n",
       "   Iteration 10  Page rank  \n",
       "A         0.093          4  \n",
       "B         0.140          3  \n",
       "C         0.280          1  \n",
       "D         0.233          2  "
      ]
     },
     "metadata": {},
     "output_type": "display_data"
    }
   ],
   "source": [
    "edge_list = [('A', 'C'),('C', 'A'),('A','B'), ('C', 'B'), ('B','D'), ('C','D'), ('D','C')]\n",
    "PageRank(edge_list).evaluate()"
   ]
  },
  {
   "cell_type": "code",
   "execution_count": null,
   "id": "862dcce8",
   "metadata": {},
   "outputs": [],
   "source": []
  }
 ],
 "metadata": {
  "kernelspec": {
   "display_name": "Python 3 (ipykernel)",
   "language": "python",
   "name": "python3"
  },
  "language_info": {
   "codemirror_mode": {
    "name": "ipython",
    "version": 3
   },
   "file_extension": ".py",
   "mimetype": "text/x-python",
   "name": "python",
   "nbconvert_exporter": "python",
   "pygments_lexer": "ipython3",
   "version": "3.7.6"
  }
 },
 "nbformat": 4,
 "nbformat_minor": 5
}
